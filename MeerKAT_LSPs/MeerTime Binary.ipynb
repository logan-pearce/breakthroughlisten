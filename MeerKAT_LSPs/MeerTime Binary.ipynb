{
 "cells": [
  {
   "cell_type": "code",
   "execution_count": 1,
   "metadata": {},
   "outputs": [],
   "source": [
    "import pandas as pd\n",
    "import numpy as np\n",
    "import MySQLdb\n",
    "import os\n",
    "import matplotlib.pyplot as plt\n",
    "from matplotlib import pyplot as plt\n",
    "from astropy.coordinates import SkyCoord\n",
    "from astropy import units as u\n",
    "import numpy as np\n",
    "from astropy.table import QTable, Table"
   ]
  },
  {
   "cell_type": "code",
   "execution_count": 2,
   "metadata": {},
   "outputs": [],
   "source": [
    "db = MySQLdb.connect(host='104.154.94.28',db='loganp',\\\n",
    "                     read_default_file=\"~/.my.cnf\",\\\n",
    "                     autocommit=True,\\\n",
    "                     local_infile = 1)\n",
    "c=db.cursor()"
   ]
  },
  {
   "cell_type": "code",
   "execution_count": 3,
   "metadata": {},
   "outputs": [],
   "source": [
    "def get_targets(ra,dec,ang_diam,project,name,dist=8000,con=db,database='master_gaia_database'):\n",
    "    \"\"\"\n",
    "    Given an RA/Dec array of any size, returns a Pandas databse of\n",
    "    the targets from the master database that fall within \n",
    "    a circle of specified angular diameter of the given RA/Decs\n",
    "    All angles in degrees\n",
    "    Args:\n",
    "        ra,dec (array, float [deg]): arrays of pointing coordinates in decimal degrees\n",
    "        project (string): project name that this pointing came from\n",
    "        name (string): name of the primary beam target\n",
    "        ang_diam (float [deg]): angular size of the diameter of the beam you are simulating.  Default of 0.8 deg\n",
    "                          is slightly smaller than the MeerKAT beam in L-band to provide a conservative estimate\n",
    "        dist (float, [pc]): depth of the desired query in parsecs.  Default is set larger than the largest distance\n",
    "                          in the master database to return essentially no distance cut\n",
    "        con (MySQL connection object): the connection you would like to use for the retrieval\n",
    "        database (str): the database to query.  Default is the master database of all Gaia targets in our program\n",
    "    Returns:\n",
    "        Pandas dataframe of every object in the database meeting criteria\n",
    "    \"\"\"\n",
    "    index = range(len(ra))\n",
    "    appended_data = [] #make a list to store dataframes\n",
    "    for r,d,i in zip(ra,dec,index):\n",
    "        string = 'SELECT * FROM '+str(database)+' \\\n",
    "                    WHERE POWER((ra-('+str(r)+')),2) + POWER((decl - ('+str(d)+')),2) < '+str((ang_diam/2.)**2)+' \\\n",
    "                    AND `dist.c` <= '+str(dist)+';'\n",
    "        dataframe = pd.read_sql(string, con=con)\n",
    "        dataframe['project']=project\n",
    "        dataframe['name']=name\n",
    "        # store DataFrame in list\n",
    "        appended_data.append(dataframe)\n",
    "        print \"I've done \",i+1,\" of \",len(ra),\" total pointings\"\n",
    "    targets = pd.concat(appended_data, axis=0)\n",
    "    return targets\n",
    "\n",
    "def find_exoplanets(ra,dec,ang_diam):\n",
    "    \"\"\"\n",
    "    Given an RA/Dec array of any size, queries the NASA Exoplanet Archive and returns a Pandas databse of\n",
    "    any known exoplanet hosts that fall within a circle of specified angular diameter of the given RA/Decs\n",
    "    All angles in degrees\n",
    "    Args:\n",
    "        ra,dec (array, float [deg]): arrays of pointing coordinates in decimal degrees\n",
    "        ang_diam (float [deg]): angular size of the diameter of the beam you are simulating.  Default of 0.8 deg\n",
    "                          is slightly smaller than the MeerKAT beam in L-band to provide a conservative estimate\n",
    "    Returns:\n",
    "        Astropy table object of every confirmed exoplanet host within the circle.\n",
    "    \"\"\"\n",
    "    from astroquery.nasa_exoplanet_archive import NasaExoplanetArchive\n",
    "    from astropy.table import QTable, Table\n",
    "    # Get exoplanet archive table of all confirmed exoplanets:\n",
    "    result_table = NasaExoplanetArchive.get_confirmed_planets_table()\n",
    "    # Convert QTable to regular astropy Table object for easy referencing:\n",
    "    e = Table(result_table)\n",
    "    # Convert to pandas df\n",
    "    cols = e.colnames[0:len(e.colnames)-1]\n",
    "    ee = e[cols].filled(-9999)\n",
    "    e = ee.to_pandas()\n",
    "    \n",
    "    # Create array for results:\n",
    "    appended_data = []\n",
    "    for r,d in zip(ra,dec):\n",
    "        circle = ((r)-(e['ra']))**2 + ((d)-(e['dec']))**2 <= ang_diam**2\n",
    "        appended_data.append(e[circle])\n",
    "    exoplanets = pd.concat(appended_data, axis=0)\n",
    "    return exoplanets"
   ]
  },
  {
   "cell_type": "code",
   "execution_count": null,
   "metadata": {},
   "outputs": [],
   "source": [
    "# All the pulsars in ATNF catalog within dec -90 & 0:\n",
    "k=pd.read_csv('../atnf_all_psr_lessthan45dec.csv',delimiter=';',comment='#')\n",
    "k"
   ]
  },
  {
   "cell_type": "code",
   "execution_count": null,
   "metadata": {},
   "outputs": [],
   "source": [
    "# Get just the binaries:\n",
    "m=k.loc[np.where((k['PB'].values<'1')&(k['Minimum'].values>='0.3'))[0]]\n",
    "m=m.reset_index(drop=True)\n",
    "m"
   ]
  },
  {
   "cell_type": "code",
   "execution_count": null,
   "metadata": {},
   "outputs": [],
   "source": [
    "# Remove any that are in globular clusters, because they will be observed by MeerTime GC program -> Look for\n",
    "# any associated with GC:\n",
    "print m['ASSOC']"
   ]
  },
  {
   "cell_type": "code",
   "execution_count": null,
   "metadata": {},
   "outputs": [],
   "source": [
    "m=m.drop(index=[0,1,2,3,4])\n",
    "print m['ASSOC']"
   ]
  },
  {
   "cell_type": "code",
   "execution_count": null,
   "metadata": {},
   "outputs": [],
   "source": [
    "m.to_csv('MeerTime_binaries_atnfcatalog_notgc.csv')"
   ]
  },
  {
   "cell_type": "code",
   "execution_count": null,
   "metadata": {},
   "outputs": [],
   "source": [
    "string = 'SELECT ra,decl FROM master_gaia_database \\\n",
    "                    WHERE decl BETWEEN -90.0 and 45.0;'\n",
    "dataframe = pd.read_sql(string, con=db)"
   ]
  },
  {
   "cell_type": "code",
   "execution_count": null,
   "metadata": {},
   "outputs": [],
   "source": [
    "from astropy.coordinates import Angle\n",
    "mpra = Angle(m['RAJD'].values*u.degree)[0:100]\n",
    "mpra = mpra.wrap_at(180*u.degree)\n",
    "mpdec = Angle(m['DECJD'].values*u.degree)[0:100]\n",
    "\n",
    "hbra = Angle(dataframe['ra'].values*u.degree)\n",
    "hbra = hbra.wrap_at(180*u.degree)\n",
    "hbdec = Angle(dataframe['decl'].values*u.degree)\n",
    "\n",
    "%matplotlib notebook\n",
    "fig = plt.figure(figsize=(8,6))\n",
    "ax = fig.add_subplot(111, projection=\"mollweide\")\n",
    "hb = ax.hexbin(hbra.radian, hbdec.radian,gridsize=500,cmap='inferno',bins='log',mincnt=1)\n",
    "#ax.scatter(pra.radian, pdec.radian,alpha=0.7,color='orange',s=10, label='PPTA pulsars')\n",
    "ax.scatter(mpra.radian, mpdec.radian,alpha=0.7,color='blue',s=10, label='Binary Targets')\n",
    "ax.set_xticklabels(['14h','16h','18h','20h','22h','0h','2h','4h','6h','8h','10h'],color='grey')\n",
    "ax.set_title('MeerTime binaries pointings \\n')\n",
    "cb = fig.colorbar(hb, ax=ax,orientation=\"horizontal\", pad=0.1)\n",
    "cb.set_label('log10(count)')\n",
    "ax.grid(True)\n",
    "plt.show()\n",
    "#plt.legend(fontsize=12,loc=4)\n",
    "plt.savefig('meertime_binaries_pointings_mollweide.png',format='png',dpi=300)"
   ]
  },
  {
   "cell_type": "code",
   "execution_count": null,
   "metadata": {},
   "outputs": [],
   "source": [
    "# Get all PPTA targets within each pointing:\n",
    "targets = get_targets(m['RAJD'].values,m['DECJD'].values,ang_diam=0.8)\n",
    "targets.to_csv('meertime_binaries.csv')"
   ]
  },
  {
   "cell_type": "code",
   "execution_count": 4,
   "metadata": {},
   "outputs": [
    {
     "name": "stdout",
     "output_type": "stream",
     "text": [
      "Doing index  0  of  15\n",
      "I've done  1  of  1  total pointings\n",
      "Doing index  1  of  15\n",
      "I've done  1  of  1  total pointings\n",
      "Doing index  2  of  15\n",
      "I've done  1  of  1  total pointings\n",
      "Doing index  3  of  15\n",
      "I've done  1  of  1  total pointings\n",
      "Doing index  4  of  15\n",
      "I've done  1  of  1  total pointings\n",
      "Doing index  5  of  15\n",
      "I've done  1  of  1  total pointings\n",
      "Doing index  6  of  15\n",
      "I've done  1  of  1  total pointings\n",
      "Doing index  7  of  15\n",
      "I've done  1  of  1  total pointings\n",
      "Doing index  8  of  15\n",
      "I've done  1  of  1  total pointings\n",
      "Doing index  9  of  15\n",
      "I've done  1  of  1  total pointings\n",
      "Doing index  10  of  15\n",
      "I've done  1  of  1  total pointings\n",
      "Doing index  11  of  15\n",
      "I've done  1  of  1  total pointings\n",
      "Doing index  12  of  15\n",
      "I've done  1  of  1  total pointings\n",
      "Doing index  13  of  15\n",
      "I've done  1  of  1  total pointings\n",
      "Doing index  14  of  15\n",
      "I've done  1  of  1  total pointings\n",
      "Doing index  15  of  15\n",
      "I've done  1  of  1  total pointings\n"
     ]
    }
   ],
   "source": [
    "# Import the target list\n",
    "k = pd.read_csv('MeerTime_binaries_atnfcatalog_notgc.csv')\n",
    "\n",
    "# Get all targets within each pointing:\n",
    "count = 0\n",
    "index = np.arange(0,len(k),1)\n",
    "for i in index:\n",
    "        print 'Doing index ',i,' of ',np.max(index)\n",
    "        targets = get_targets([k['RAJD'].values[i]],[k['DECJD'].values[i]],0.8,'MeerTime Binaries',k['NAME'].values[i])\n",
    "        if count == 0:\n",
    "                targets.to_csv('../Our_targets/meertime_binaries.csv',index=False)\n",
    "        else:\n",
    "                targets.to_csv('../Our_targets/meertime_binaries.csv',mode='a',header=False,index=False)\n",
    "\n",
    "        count=count+1"
   ]
  },
  {
   "cell_type": "code",
   "execution_count": null,
   "metadata": {},
   "outputs": [],
   "source": []
  }
 ],
 "metadata": {
  "kernelspec": {
   "display_name": "Python 2",
   "language": "python",
   "name": "python2"
  },
  "language_info": {
   "codemirror_mode": {
    "name": "ipython",
    "version": 2
   },
   "file_extension": ".py",
   "mimetype": "text/x-python",
   "name": "python",
   "nbconvert_exporter": "python",
   "pygments_lexer": "ipython2",
   "version": "2.7.12"
  }
 },
 "nbformat": 4,
 "nbformat_minor": 2
}
