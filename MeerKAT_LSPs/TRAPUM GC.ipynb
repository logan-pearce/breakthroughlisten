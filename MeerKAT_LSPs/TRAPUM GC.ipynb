{
 "cells": [
  {
   "cell_type": "code",
   "execution_count": 1,
   "metadata": {},
   "outputs": [],
   "source": [
    "import pandas as pd\n",
    "import numpy as np\n",
    "import MySQLdb\n",
    "import os\n",
    "import matplotlib.pyplot as plt\n",
    "from matplotlib import pyplot as plt\n",
    "from astropy.coordinates import SkyCoord\n",
    "from astropy import units as u\n",
    "import numpy as np"
   ]
  },
  {
   "cell_type": "code",
   "execution_count": 2,
   "metadata": {},
   "outputs": [],
   "source": [
    "db = MySQLdb.connect(host='104.154.94.28',db='loganp',\\\n",
    "                     read_default_file=\"~/.my.cnf\",\\\n",
    "                     autocommit=True,\\\n",
    "                     local_infile = 1)\n",
    "c=db.cursor()"
   ]
  },
  {
   "cell_type": "code",
   "execution_count": 3,
   "metadata": {},
   "outputs": [],
   "source": [
    "def get_targets(ra,dec,ang_diam,project,name,dist=5000,con=db,database='master_gaia_database'):\n",
    "    \"\"\"\n",
    "    Given an RA/Dec array of any size, returns a Pandas databse of\n",
    "    the targets from the master database that fall within \n",
    "    a circle of specified angular diameter of the given RA/Decs\n",
    "    All angles in degrees\n",
    "    Args:\n",
    "        ra,dec (array, float [deg]): arrays of pointing coordinates in decimal degrees\n",
    "        ang_diam (float [deg]): angular size of the diameter of the beam you are simulating.  Default of 0.8 deg\n",
    "                          is slightly smaller than the MeerKAT beam in L-band to provide a conservative estimate\n",
    "        project (string): project name that this pointing came from\n",
    "        name (string): name of the primary beam target\n",
    "        dist (float, [pc]): depth of the desired query in parsecs.  Default is set larger than the largest distance\n",
    "                          in the master database to return essentially no distance cut\n",
    "        con (MySQL connection object): the connection you would like to use for the retrieval\n",
    "        database (str): the database to query.  Default is the master database of all Gaia targets in our program\n",
    "    Returns:\n",
    "        Pandas dataframe of every object in the database meeting criteria\n",
    "    \"\"\"\n",
    "    index = range(len(ra))\n",
    "    appended_data = [] #make a list to store dataframes\n",
    "    for r,d,i in zip(ra,dec,index):\n",
    "        string = 'SELECT * FROM '+str(database)+' \\\n",
    "                    WHERE POWER((ra-('+str(r)+')),2) + POWER((decl - ('+str(d)+')),2) < '+str((ang_diam/2.)**2)+' \\\n",
    "                    AND `dist.c` <= '+str(dist)+';'\n",
    "        dataframe = pd.read_sql(string, con=con)\n",
    "        dataframe['project']=project\n",
    "        dataframe['name']=name\n",
    "        # store DataFrame in list\n",
    "        appended_data.append(dataframe)\n",
    "        print \"I've done \",i+1,\" of \",len(ra),\" total pointings\"\n",
    "    targets = pd.concat(appended_data, axis=0)\n",
    "    return targets"
   ]
  },
  {
   "cell_type": "code",
   "execution_count": 8,
   "metadata": {},
   "outputs": [],
   "source": [
    "clusters = ['Liller 1','NGC 6388','Omega Centauri','2MASS-GC01','2MASS-GC02']"
   ]
  },
  {
   "cell_type": "code",
   "execution_count": 13,
   "metadata": {},
   "outputs": [
    {
     "data": {
      "text/html": [
       "<div>\n",
       "<style scoped>\n",
       "    .dataframe tbody tr th:only-of-type {\n",
       "        vertical-align: middle;\n",
       "    }\n",
       "\n",
       "    .dataframe tbody tr th {\n",
       "        vertical-align: top;\n",
       "    }\n",
       "\n",
       "    .dataframe thead th {\n",
       "        text-align: right;\n",
       "    }\n",
       "</style>\n",
       "<table border=\"1\" class=\"dataframe\">\n",
       "  <thead>\n",
       "    <tr style=\"text-align: right;\">\n",
       "      <th></th>\n",
       "      <th>RA</th>\n",
       "      <th>DEC</th>\n",
       "      <th>NAME</th>\n",
       "      <th>ra_deg</th>\n",
       "      <th>dec_deg</th>\n",
       "    </tr>\n",
       "  </thead>\n",
       "  <tbody>\n",
       "    <tr>\n",
       "      <th>0</th>\n",
       "      <td>17 33 24.50</td>\n",
       "      <td>-33 23 20.0</td>\n",
       "      <td>C 1730-333</td>\n",
       "      <td>263.352083</td>\n",
       "      <td>-33.388889</td>\n",
       "    </tr>\n",
       "    <tr>\n",
       "      <th>0</th>\n",
       "      <td>17 36 17.461</td>\n",
       "      <td>-44 44 08.34</td>\n",
       "      <td>NGC  6388</td>\n",
       "      <td>264.072754</td>\n",
       "      <td>-44.735650</td>\n",
       "    </tr>\n",
       "    <tr>\n",
       "      <th>0</th>\n",
       "      <td>13 26 47.28</td>\n",
       "      <td>-47 28 46.1</td>\n",
       "      <td>NGC  5139</td>\n",
       "      <td>201.697000</td>\n",
       "      <td>-47.479472</td>\n",
       "    </tr>\n",
       "    <tr>\n",
       "      <th>0</th>\n",
       "      <td>18 08 21.8</td>\n",
       "      <td>-19 49 47</td>\n",
       "      <td>NAME 2MASS-GC01</td>\n",
       "      <td>272.090833</td>\n",
       "      <td>-19.829722</td>\n",
       "    </tr>\n",
       "    <tr>\n",
       "      <th>0</th>\n",
       "      <td>18 09 36.5</td>\n",
       "      <td>-20 46 44</td>\n",
       "      <td>NAME 2MASS-GC02</td>\n",
       "      <td>272.402083</td>\n",
       "      <td>-20.778889</td>\n",
       "    </tr>\n",
       "  </tbody>\n",
       "</table>\n",
       "</div>"
      ],
      "text/plain": [
       "             RA           DEC             NAME      ra_deg    dec_deg\n",
       "0   17 33 24.50   -33 23 20.0       C 1730-333  263.352083 -33.388889\n",
       "0  17 36 17.461  -44 44 08.34        NGC  6388  264.072754 -44.735650\n",
       "0   13 26 47.28   -47 28 46.1        NGC  5139  201.697000 -47.479472\n",
       "0    18 08 21.8     -19 49 47  NAME 2MASS-GC01  272.090833 -19.829722\n",
       "0    18 09 36.5     -20 46 44  NAME 2MASS-GC02  272.402083 -20.778889"
      ]
     },
     "execution_count": 13,
     "metadata": {},
     "output_type": "execute_result"
    }
   ],
   "source": [
    "from astroquery.simbad import Simbad\n",
    "from astropy.table import QTable, Table\n",
    "table=pd.DataFrame()\n",
    "\n",
    "for c in clusters:\n",
    "    t=Simbad.query_object(c)\n",
    "    t = Table(t)\n",
    "    t1=Table()\n",
    "    t1['RA'] = t['RA']\n",
    "    t1['DEC'] = t['DEC']\n",
    "    t1['NAME'] = t['MAIN_ID']\n",
    "    t1=t1.to_pandas()\n",
    "    table=table.append(t1)\n",
    "    \n",
    "radeg,decdeg = np.zeros(len(table)),np.zeros(len(table))\n",
    "for r,d,i in zip(table['RA'],table['DEC'],range(len(table))):\n",
    "    sc = SkyCoord(ra=r, dec=d, unit=(u.hourangle, u.deg), equinox='J2000.0')\n",
    "    radeg[i],decdeg[i] = sc.ra.degree,sc.dec.degree\n",
    "table['ra_deg'],table['dec_deg'] = radeg,decdeg\n",
    "table"
   ]
  },
  {
   "cell_type": "code",
   "execution_count": 14,
   "metadata": {},
   "outputs": [],
   "source": [
    "table.to_csv('Trapum_GC_targets.csv',index=False)"
   ]
  },
  {
   "cell_type": "code",
   "execution_count": 16,
   "metadata": {},
   "outputs": [
    {
     "name": "stdout",
     "output_type": "stream",
     "text": [
      "Doing index  0  of  4\n",
      "I've done  1  of  1  total pointings\n",
      "Doing index  1  of  4\n",
      "I've done  1  of  1  total pointings\n",
      "Doing index  2  of  4\n",
      "I've done  1  of  1  total pointings\n",
      "Doing index  3  of  4\n",
      "I've done  1  of  1  total pointings\n",
      "Doing index  4  of  4\n",
      "I've done  1  of  1  total pointings\n"
     ]
    }
   ],
   "source": [
    "count=0\n",
    "index = np.arange(0,len(table),1)\n",
    "for i in index:\n",
    "    print 'Doing index ',i,' of ',np.max(index)\n",
    "    targets = get_targets([table['ra_deg'].values[i]],[table['dec_deg'].values[i]],1.5,'TRAPUM_GC',\\\n",
    "                          table['NAME'].values[i])\n",
    "    if count == 0:\n",
    "        targets.to_csv('trapum_GC.csv',index=False)\n",
    "    else:\n",
    "        targets.to_csv('trapum_GC.csv',mode='a',header=False,index=False)\n",
    "\n",
    "    count=count+1"
   ]
  },
  {
   "cell_type": "code",
   "execution_count": null,
   "metadata": {},
   "outputs": [],
   "source": []
  }
 ],
 "metadata": {
  "kernelspec": {
   "display_name": "Python 2",
   "language": "python",
   "name": "python2"
  },
  "language_info": {
   "codemirror_mode": {
    "name": "ipython",
    "version": 2
   },
   "file_extension": ".py",
   "mimetype": "text/x-python",
   "name": "python",
   "nbconvert_exporter": "python",
   "pygments_lexer": "ipython2",
   "version": "2.7.12"
  }
 },
 "nbformat": 4,
 "nbformat_minor": 2
}
